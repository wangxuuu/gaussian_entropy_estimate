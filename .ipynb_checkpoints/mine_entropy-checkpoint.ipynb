{
 "cells": [
  {
   "cell_type": "code",
   "execution_count": 2,
   "metadata": {},
   "outputs": [],
   "source": [
    "import numpy as np\n",
    "import torch\n",
    "import matplotlib.pyplot as plt\n",
    "from data.mix_gaussian import MixedGaussian\n",
    "import mine"
   ]
  },
  {
   "cell_type": "code",
   "execution_count": 3,
   "metadata": {},
   "outputs": [],
   "source": [
    "if torch.cuda.is_available():\n",
    "    torch.set_default_tensor_type(torch.cuda.FloatTensor)\n",
    "else:\n",
    "    torch.set_default_tensor_type(torch.FloatTensor)"
   ]
  },
  {
   "cell_type": "code",
   "execution_count": 4,
   "metadata": {},
   "outputs": [],
   "source": [
    "d = 2  # d is the dimension of X and Y. The dimension of joint mix-gaussian distribution is 2*d\n",
    "\n",
    "rho = 0.9\n",
    "sample_size = 400\n",
    "\n",
    "X = np.zeros((sample_size, d))\n",
    "Y = np.zeros((sample_size, d))\n",
    "\n",
    "mg = MixedGaussian(sample_size=sample_size, rho1=rho, rho2=-rho)\n",
    "\n",
    "hx, hy, hxy, mi = mg.ground_truth\n",
    "\n",
    "\"\"\"\n",
    "Splitting the 2-d Mix-Gaussian data into 2 components, and assign them to X and Y respectively. \n",
    "Generate 2-d Mix-Gaussian data from the same distribution and repeat this step for d times. \n",
    "(X,Y) is a mixed gaussian distribution; but X and Y are not.\n",
    "\"\"\"\n",
    "for i in range(d):\n",
    "    data = mg.data\n",
    "    X[:, i] = data[:, 0]\n",
    "    Y[:, i] = data[:, 1]"
   ]
  },
  {
   "cell_type": "code",
   "execution_count": 5,
   "metadata": {},
   "outputs": [
    {
     "data": {
      "image/png": "[encoded data removed]",
      "text/plain": [
       "<Figure size 432x288 with 1 Axes>"
      ]
     },
     "metadata": {
      "needs_background": "light"
     },
     "output_type": "display_data"
    }
   ],
   "source": [
    "plt.figure()\n",
    "plt.scatter(X[:, 0], Y[:, 0])\n",
    "plt.xlabel('X')\n",
    "plt.ylabel('Y')\n",
    "plt.show()"
   ]
  },
  {
   "cell_type": "code",
   "execution_count": 16,
   "metadata": {},
   "outputs": [],
   "source": [
    "import scipy.stats as st\n",
    "pdf = st.multivariate_normal(\n",
    "            mean=np.zeros(d),\n",
    "            cov=np.identity(d))\n",
    "density_x = pdf.pdf(X)   # p(x)\n",
    "density_y = pdf.pdf(Y)   # p(y)\n",
    "density_xy = density_x * density_y\n",
    "\n",
    "H_crossentropy = -np.log(density_xy).mean()"
   ]
  },
  {
   "cell_type": "code",
   "execution_count": 17,
   "metadata": {},
   "outputs": [],
   "source": [
    "# Ground truth of entropy of mixed gaussian distribution (X,Y)\n",
    "# As the 2-d mix-gaussian data is generated independently, the entropy of (X, Y) is d times \n",
    "# the entropy of the 2-d mix-gaussian data.\n",
    "h_xy = hxy * d\n",
    "hx = hx * d\n",
    "hy = hy * d\n",
    "\n",
    "MI = mi * d\n",
    "\n",
    "data = np.append(X, Y, axis=1)\n",
    "# The entropy of uniform referance distribution "
   ]
  },
  {
   "cell_type": "code",
   "execution_count": 19,
   "metadata": {},
   "outputs": [
    {
     "ename": "TypeError",
     "evalue": "__init__() got an unexpected keyword argument 'ref_batch_factor'",
     "output_type": "error",
     "traceback": [
      "\u001b[1;31m---------------------------------------------------------------------------\u001b[0m",
      "\u001b[1;31mTypeError\u001b[0m                                 Traceback (most recent call last)",
      "\u001b[1;32m<ipython-input-19-9ea864949153>\u001b[0m in \u001b[0;36m<module>\u001b[1;34m\u001b[0m\n\u001b[0;32m      7\u001b[0m \u001b[1;33m\u001b[0m\u001b[0m\n\u001b[0;32m      8\u001b[0m \u001b[1;33m\u001b[0m\u001b[0m\n\u001b[1;32m----> 9\u001b[1;33m \u001b[0mNN\u001b[0m \u001b[1;33m=\u001b[0m \u001b[0mmine\u001b[0m\u001b[1;33m.\u001b[0m\u001b[0mMINE\u001b[0m\u001b[1;33m(\u001b[0m\u001b[0mtorch\u001b[0m\u001b[1;33m.\u001b[0m\u001b[0mTensor\u001b[0m\u001b[1;33m(\u001b[0m\u001b[0mX\u001b[0m\u001b[1;33m)\u001b[0m\u001b[1;33m,\u001b[0m \u001b[0mtorch\u001b[0m\u001b[1;33m.\u001b[0m\u001b[0mTensor\u001b[0m\u001b[1;33m(\u001b[0m\u001b[0mY\u001b[0m\u001b[1;33m)\u001b[0m\u001b[1;33m,\u001b[0m \u001b[0mbatch_size\u001b[0m\u001b[1;33m=\u001b[0m\u001b[0mbatch_size\u001b[0m\u001b[1;33m,\u001b[0m\u001b[0mref_batch_factor\u001b[0m\u001b[1;33m=\u001b[0m\u001b[0mref_batch_factor\u001b[0m\u001b[1;33m,\u001b[0m\u001b[0mlr\u001b[0m\u001b[1;33m=\u001b[0m\u001b[0mlr\u001b[0m\u001b[1;33m)\u001b[0m\u001b[1;33m\u001b[0m\u001b[1;33m\u001b[0m\u001b[0m\n\u001b[0m\u001b[0;32m     10\u001b[0m \u001b[1;33m\u001b[0m\u001b[0m\n\u001b[0;32m     11\u001b[0m \u001b[0mnum_iteration\u001b[0m \u001b[1;33m=\u001b[0m \u001b[1;36m80000\u001b[0m\u001b[1;33m\u001b[0m\u001b[1;33m\u001b[0m\u001b[0m\n",
      "\u001b[1;31mTypeError\u001b[0m: __init__() got an unexpected keyword argument 'ref_batch_factor'"
     ]
    }
   ],
   "source": [
    "# -------------------------- Training ----------------------------- #\n",
    "# Using Neural Network to estimate the entropy of the generated Gaussian distribution\n",
    "\n",
    "batch_size = 100\n",
    "lr = 1e-4\n",
    "ref_batch_factor = 10  \n",
    "\n",
    "\n",
    "NN = mine.MINE(torch.Tensor(X),torch.Tensor(Y),batch_size=batch_size,lr=lr,ma_rate=ma_rate)\n",
    "\n",
    "num_iteration = 80000\n",
    "\n",
    "entropy_XY = []\n",
    "dXY_list = []\n",
    "\n",
    "\n",
    "for i in range(num_iteration):\n",
    "    NN.step()\n",
    "    dXY = NN.forward()\n",
    "    entropy_XY.append(H - dXY)\n",
    "    dXY_list.append(dXY)\n",
    "\n",
    "\n",
    "plt.figure()\n",
    "plt.plot(entropy_XY, label='XY entropy')\n",
    "plt.axhline(h_xy, label='ground truth', linestyle='--', color='red')\n",
    "plt.xlabel('Iteration')\n",
    "plt.title('XY dim=%d' % (2 * d))\n",
    "plt.legend()\n",
    "plt.show()"
   ]
  },
  {
   "cell_type": "code",
   "execution_count": null,
   "metadata": {},
   "outputs": [],
   "source": []
  }
 ],
 "metadata": {
  "kernelspec": {
   "display_name": "Python 3",
   "language": "python",
   "name": "python3"
  },
  "language_info": {
   "codemirror_mode": {
    "name": "ipython",
    "version": 3
   },
   "file_extension": ".py",
   "mimetype": "text/x-python",
   "name": "python",
   "nbconvert_exporter": "python",
   "pygments_lexer": "ipython3",
   "version": "3.7.5"
  }
 },
 "nbformat": 4,
 "nbformat_minor": 2
}
